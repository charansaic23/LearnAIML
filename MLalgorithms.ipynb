{
  "nbformat": 4,
  "nbformat_minor": 0,
  "metadata": {
    "colab": {
      "provenance": [],
      "toc_visible": true,
      "authorship_tag": "ABX9TyNMhPsVbZoNV40WPqht2Gw8",
      "include_colab_link": true
    },
    "kernelspec": {
      "name": "python3",
      "display_name": "Python 3"
    },
    "language_info": {
      "name": "python"
    }
  },
  "cells": [
    {
      "cell_type": "markdown",
      "metadata": {
        "id": "view-in-github",
        "colab_type": "text"
      },
      "source": [
        "<a href=\"https://colab.research.google.com/github/charansaic23/LearnAIML/blob/main/MLalgorithms.ipynb\" target=\"_parent\"><img src=\"https://colab.research.google.com/assets/colab-badge.svg\" alt=\"Open In Colab\"/></a>"
      ]
    },
    {
      "cell_type": "markdown",
      "source": [
        "Machine Learning algorithms are set of rules or processs used by AI system to conduct tasks.\n",
        "These tasks include:\n",
        "\n",
        "\n",
        "*   Discovering new data insights and pattrens and making judgments.\n",
        "*   Predicting output values based on certain input values.\n",
        "\n",
        "\n",
        "\n",
        "\n",
        "\n"
      ],
      "metadata": {
        "id": "mfiM-Bxr3-2T"
      }
    },
    {
      "cell_type": "markdown",
      "source": [
        "**Types of Machine Learning Algorithms:**\n",
        "\n",
        "*   Supervised Learning\n",
        "*   Unsupervised Learning\n",
        "*   Reinforcement Learning\n",
        "\n",
        "\n",
        "\n"
      ],
      "metadata": {
        "id": "m-R_XdiB6GLc"
      }
    },
    {
      "cell_type": "markdown",
      "source": [
        "**Supervised Learning**\n",
        "\n",
        "In this type of learning, machines are trained using well\n",
        "labeled data, and on basis of thid data, machines predict the output. Labelled data here means some input data is already tagged with the output.\n",
        "\n",
        "Here Supervisor is the input data provided to machine which teaches machine to predict output correctly.\n",
        "\n",
        "Aim of Supervised learning is to find a mapping function to map input variable with the output variable.\n",
        "\n",
        "\n",
        "\n",
        "\n",
        "    \n",
        "\n"
      ],
      "metadata": {
        "id": "lQKP2pc66-Q4"
      }
    },
    {
      "cell_type": "markdown",
      "source": [
        "There are two types:\n",
        "\n",
        "\n",
        "*   Regression - predict continues values\n",
        "*   Classification  - categorizes data\n",
        "\n"
      ],
      "metadata": {
        "id": "q1esLuOC7UoT"
      }
    },
    {
      "cell_type": "markdown",
      "source": [
        "**Regression**\n",
        "\n",
        "Regression is a statistical approach used to analyze the relationship between a dependent variable (target variable/label) and one or more independent variables (features).\n",
        "\n",
        "Types:\n",
        "\n",
        "*   Linear Regression\n",
        "\n"
      ],
      "metadata": {
        "id": "KXfpiHaT8jjO"
      }
    },
    {
      "cell_type": "markdown",
      "source": [
        "**Linear Regression**\n",
        "\n",
        "Linear Regression makes predictions for continious or numeric variables."
      ],
      "metadata": {
        "id": "Q-OKz8ctAURi"
      }
    },
    {
      "cell_type": "code",
      "source": [],
      "metadata": {
        "id": "zNuBGqb3AzkM"
      },
      "execution_count": null,
      "outputs": []
    },
    {
      "cell_type": "code",
      "source": [],
      "metadata": {
        "id": "KeR-tI_T5yDy"
      },
      "execution_count": null,
      "outputs": []
    }
  ]
}